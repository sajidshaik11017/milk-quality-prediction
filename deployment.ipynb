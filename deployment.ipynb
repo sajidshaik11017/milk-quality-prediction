{
 "cells": [
  {
   "cell_type": "code",
   "execution_count": 10,
   "id": "255b9f40",
   "metadata": {},
   "outputs": [
    {
     "ename": "TypeError",
     "evalue": "file must have 'read' and 'readline' attributes",
     "output_type": "error",
     "traceback": [
      "\u001b[1;31m---------------------------------------------------------------------------\u001b[0m",
      "\u001b[1;31mTypeError\u001b[0m                                 Traceback (most recent call last)",
      "Cell \u001b[1;32mIn[10], line 6\u001b[0m\n\u001b[0;32m      3\u001b[0m \u001b[38;5;28;01mimport\u001b[39;00m \u001b[38;5;21;01mpickle\u001b[39;00m\n\u001b[0;32m      5\u001b[0m \u001b[38;5;66;03m# Load the trained model\u001b[39;00m\n\u001b[1;32m----> 6\u001b[0m model \u001b[38;5;241m=\u001b[39m pickle\u001b[38;5;241m.\u001b[39mload(\u001b[38;5;124m'\u001b[39m\u001b[38;5;124mmilk_quality_model.pkl\u001b[39m\u001b[38;5;124m'\u001b[39m)\n\u001b[0;32m      8\u001b[0m \u001b[38;5;66;03m# Create the Streamlit web app\u001b[39;00m\n\u001b[0;32m      9\u001b[0m st\u001b[38;5;241m.\u001b[39mtitle(\u001b[38;5;124m'\u001b[39m\u001b[38;5;124mMilk Quality Prediction\u001b[39m\u001b[38;5;124m'\u001b[39m)\n",
      "\u001b[1;31mTypeError\u001b[0m: file must have 'read' and 'readline' attributes"
     ]
    }
   ],
   "source": [
    "import streamlit as st\n",
    "import pandas as pd\n",
    "import pickle\n",
    "\n",
    "# Load the trained model\n",
    "model = pickle.load('milk_quality_model.pkl')\n",
    "\n",
    "# Create the Streamlit web app\n",
    "st.title('Milk Quality Prediction')\n",
    "\n",
    "# Define the input form\n",
    "st.header('Enter Milk Parameters')\n",
    "pH = st.number_input('pH Content (%)', min_value=0.0, max_value=10.0, step=0.1)\n",
    "Temprature = st.number_input('Temprature (°C)', min_value=0.0, max_value=10.0, step=0.1)\n",
    "Taste = st.number_input('Taste (%)', min_value=0.0, max_value=10.0, step=0.1)\n",
    "Odor = st.number_input('Odor (%)', min_value=0.0, max_value=10.0, step=0.1)\n",
    "Fat = st.number_input('Fat Content (%)', min_value=0.0, max_value=10.0, step=0.1)\n",
    "Turbidity = st.number_input('Turbidity (%)', min_value=0.0, max_value=100.0, step=1.0)\n",
    "Colour = st.number_input('Colour (%)', min_value=0.0, max_value=10.0, step=0.1)\n",
    "\n",
    "\n",
    "# Create a pandas DataFrame with the input values\n",
    "input_data = pd.DataFrame({\n",
    "    'pH':[pH],\n",
    "    'Temprature':['Temprature'],\n",
    "    'Taste': [Taste],\n",
    "    'Odor': [Odor],\n",
    "    'Fat': [Fat],\n",
    "    'Turbidity':[Turbidity],\n",
    "    'Temperature': [temperature]\n",
    "})\n",
    "\n",
    "# Make predictions using the loaded model\n",
    "prediction = model.predict(input_data)\n",
    "\n",
    "# Display the predicted milk quality\n",
    "st.header('Milk Quality Prediction')\n",
    "if prediction == 0:\n",
    "    st.write('The milk is of low quality.')\n",
    "else:\n",
    "    st.write('The milk is of high quality.')"
   ]
  },
  {
   "cell_type": "code",
   "execution_count": null,
   "id": "69985ffa",
   "metadata": {},
   "outputs": [],
   "source": []
  }
 ],
 "metadata": {
  "kernelspec": {
   "display_name": "Python 3 (ipykernel)",
   "language": "python",
   "name": "python3"
  },
  "language_info": {
   "codemirror_mode": {
    "name": "ipython",
    "version": 3
   },
   "file_extension": ".py",
   "mimetype": "text/x-python",
   "name": "python",
   "nbconvert_exporter": "python",
   "pygments_lexer": "ipython3",
   "version": "3.11.3"
  }
 },
 "nbformat": 4,
 "nbformat_minor": 5
}
